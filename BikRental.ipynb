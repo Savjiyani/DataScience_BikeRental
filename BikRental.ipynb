{
 "cells": [
  {
   "cell_type": "code",
   "execution_count": 1,
   "metadata": {},
   "outputs": [],
   "source": [
    "#Load libraries\n",
    "import os\n",
    "import datetime\n",
    "import pandas as pd\n",
    "import numpy as np\n",
    "import matplotlib.pyplot as plt\n",
    "import seaborn as sns\n",
    "from random import randrange, uniform\n",
    "#import KNN"
   ]
  },
  {
   "cell_type": "code",
   "execution_count": 2,
   "metadata": {},
   "outputs": [],
   "source": [
    "bike_data =  pd.read_csv(\"Day.csv\", index_col = 0)"
   ]
  },
  {
   "cell_type": "markdown",
   "metadata": {},
   "source": [
    "# Missing Value Analysis"
   ]
  },
  {
   "cell_type": "code",
   "execution_count": 3,
   "metadata": {},
   "outputs": [
    {
     "data": {
      "text/html": [
       "<div>\n",
       "<style scoped>\n",
       "    .dataframe tbody tr th:only-of-type {\n",
       "        vertical-align: middle;\n",
       "    }\n",
       "\n",
       "    .dataframe tbody tr th {\n",
       "        vertical-align: top;\n",
       "    }\n",
       "\n",
       "    .dataframe thead th {\n",
       "        text-align: right;\n",
       "    }\n",
       "</style>\n",
       "<table border=\"1\" class=\"dataframe\">\n",
       "  <thead>\n",
       "    <tr style=\"text-align: right;\">\n",
       "      <th></th>\n",
       "      <th>Missing_percentage</th>\n",
       "    </tr>\n",
       "  </thead>\n",
       "  <tbody>\n",
       "    <tr>\n",
       "      <th>dteday</th>\n",
       "      <td>0.0</td>\n",
       "    </tr>\n",
       "    <tr>\n",
       "      <th>season</th>\n",
       "      <td>0.0</td>\n",
       "    </tr>\n",
       "    <tr>\n",
       "      <th>yr</th>\n",
       "      <td>0.0</td>\n",
       "    </tr>\n",
       "    <tr>\n",
       "      <th>mnth</th>\n",
       "      <td>0.0</td>\n",
       "    </tr>\n",
       "    <tr>\n",
       "      <th>holiday</th>\n",
       "      <td>0.0</td>\n",
       "    </tr>\n",
       "    <tr>\n",
       "      <th>weekday</th>\n",
       "      <td>0.0</td>\n",
       "    </tr>\n",
       "    <tr>\n",
       "      <th>workingday</th>\n",
       "      <td>0.0</td>\n",
       "    </tr>\n",
       "    <tr>\n",
       "      <th>weathersit</th>\n",
       "      <td>0.0</td>\n",
       "    </tr>\n",
       "    <tr>\n",
       "      <th>temp</th>\n",
       "      <td>0.0</td>\n",
       "    </tr>\n",
       "    <tr>\n",
       "      <th>atemp</th>\n",
       "      <td>0.0</td>\n",
       "    </tr>\n",
       "    <tr>\n",
       "      <th>hum</th>\n",
       "      <td>0.0</td>\n",
       "    </tr>\n",
       "    <tr>\n",
       "      <th>windspeed</th>\n",
       "      <td>0.0</td>\n",
       "    </tr>\n",
       "    <tr>\n",
       "      <th>casual</th>\n",
       "      <td>0.0</td>\n",
       "    </tr>\n",
       "    <tr>\n",
       "      <th>registered</th>\n",
       "      <td>0.0</td>\n",
       "    </tr>\n",
       "    <tr>\n",
       "      <th>cnt</th>\n",
       "      <td>0.0</td>\n",
       "    </tr>\n",
       "  </tbody>\n",
       "</table>\n",
       "</div>"
      ],
      "text/plain": [
       "            Missing_percentage\n",
       "dteday                     0.0\n",
       "season                     0.0\n",
       "yr                         0.0\n",
       "mnth                       0.0\n",
       "holiday                    0.0\n",
       "weekday                    0.0\n",
       "workingday                 0.0\n",
       "weathersit                 0.0\n",
       "temp                       0.0\n",
       "atemp                      0.0\n",
       "hum                        0.0\n",
       "windspeed                  0.0\n",
       "casual                     0.0\n",
       "registered                 0.0\n",
       "cnt                        0.0"
      ]
     },
     "execution_count": 3,
     "metadata": {},
     "output_type": "execute_result"
    }
   ],
   "source": [
    "#Calculating the null values in the dataframe\n",
    "missing_value = pd.DataFrame(bike_data.isnull().sum())\n",
    "missing_value = (missing_value/len(bike_data))*100\n",
    "missing_value.reset_index()\n",
    "\n",
    "missing_value = missing_value.rename(columns = {'index': 'Variables', 0: 'Missing_percentage'})\n",
    "#Arranging Missing Values in Decreasing Order\n",
    "missing_value = missing_value.sort_values('Missing_percentage', ascending = False)\n",
    "#save output results \n",
    "missing_value.to_csv(\"Missing_perc.csv\", index = False)\n",
    "missing_value\n",
    "\n",
    "##There is no missing value in the dataframe"
   ]
  },
  {
   "cell_type": "markdown",
   "metadata": {},
   "source": [
    "# Outlier Analysis"
   ]
  },
  {
   "cell_type": "code",
   "execution_count": 4,
   "metadata": {},
   "outputs": [
    {
     "data": {
      "text/plain": [
       "{'whiskers': [<matplotlib.lines.Line2D at 0x1a1910ce80>,\n",
       "  <matplotlib.lines.Line2D at 0x1a191234e0>],\n",
       " 'caps': [<matplotlib.lines.Line2D at 0x1a19123828>,\n",
       "  <matplotlib.lines.Line2D at 0x1a19123b70>],\n",
       " 'boxes': [<matplotlib.lines.Line2D at 0x1a1910ccf8>],\n",
       " 'medians': [<matplotlib.lines.Line2D at 0x1a19123eb8>],\n",
       " 'fliers': [<matplotlib.lines.Line2D at 0x1a19123f98>],\n",
       " 'means': []}"
      ]
     },
     "execution_count": 4,
     "metadata": {},
     "output_type": "execute_result"
    },
    {
     "data": {
      "image/png": "[encoded data removed]",
      "text/plain": [
       "<Figure size 432x288 with 1 Axes>"
      ]
     },
     "metadata": {
      "needs_background": "light"
     },
     "output_type": "display_data"
    }
   ],
   "source": [
    "%matplotlib inline\n",
    "\n",
    "plt.boxplot(bike_data.temp)"
   ]
  },
  {
   "cell_type": "code",
   "execution_count": 5,
   "metadata": {},
   "outputs": [
    {
     "data": {
      "text/plain": [
       "{'whiskers': [<matplotlib.lines.Line2D at 0x1a1924add8>,\n",
       "  <matplotlib.lines.Line2D at 0x1a1924aeb8>],\n",
       " 'caps': [<matplotlib.lines.Line2D at 0x1a192554a8>,\n",
       "  <matplotlib.lines.Line2D at 0x1a192557f0>],\n",
       " 'boxes': [<matplotlib.lines.Line2D at 0x1a1924a9e8>],\n",
       " 'medians': [<matplotlib.lines.Line2D at 0x1a19255b38>],\n",
       " 'fliers': [<matplotlib.lines.Line2D at 0x1a19255e80>],\n",
       " 'means': []}"
      ]
     },
     "execution_count": 5,
     "metadata": {},
     "output_type": "execute_result"
    },
    {
     "data": {
      "image/png": "[encoded data removed]",
      "text/plain": [
       "<Figure size 432x288 with 1 Axes>"
      ]
     },
     "metadata": {
      "needs_background": "light"
     },
     "output_type": "display_data"
    }
   ],
   "source": [
    "%matplotlib inline\n",
    "\n",
    "plt.boxplot(bike_data.atemp)"
   ]
  },
  {
   "cell_type": "code",
   "execution_count": 7,
   "metadata": {},
   "outputs": [
    {
     "data": {
      "text/plain": [
       "{'whiskers': [<matplotlib.lines.Line2D at 0x1a193e8cf8>,\n",
       "  <matplotlib.lines.Line2D at 0x1a193e8dd8>],\n",
       " 'caps': [<matplotlib.lines.Line2D at 0x1a193f23c8>,\n",
       "  <matplotlib.lines.Line2D at 0x1a193f2710>],\n",
       " 'boxes': [<matplotlib.lines.Line2D at 0x1a193e88d0>],\n",
       " 'medians': [<matplotlib.lines.Line2D at 0x1a193f2a58>],\n",
       " 'fliers': [<matplotlib.lines.Line2D at 0x1a193f2da0>],\n",
       " 'means': []}"
      ]
     },
     "execution_count": 7,
     "metadata": {},
     "output_type": "execute_result"
    },
    {
     "data": {
      "image/png": "[encoded data removed]",
      "text/plain": [
       "<Figure size 432x288 with 1 Axes>"
      ]
     },
     "metadata": {
      "needs_background": "light"
     },
     "output_type": "display_data"
    }
   ],
   "source": [
    "plt.boxplot(bike_data.windspeed)\n",
    "\n",
    "#Positeve outlier found in windspeed"
   ]
  },
  {
   "cell_type": "code",
   "execution_count": 8,
   "metadata": {},
   "outputs": [
    {
     "data": {
      "text/plain": [
       "{'whiskers': [<matplotlib.lines.Line2D at 0x1a194486d8>,\n",
       "  <matplotlib.lines.Line2D at 0x1a19448a20>],\n",
       " 'caps': [<matplotlib.lines.Line2D at 0x1a19448d68>,\n",
       "  <matplotlib.lines.Line2D at 0x1a19448e48>],\n",
       " 'boxes': [<matplotlib.lines.Line2D at 0x1a194482e8>],\n",
       " 'medians': [<matplotlib.lines.Line2D at 0x1a194bd438>],\n",
       " 'fliers': [<matplotlib.lines.Line2D at 0x1a194bd780>],\n",
       " 'means': []}"
      ]
     },
     "execution_count": 8,
     "metadata": {},
     "output_type": "execute_result"
    },
    {
     "data": {
      "image/png": "[encoded data removed]",
      "text/plain": [
       "<Figure size 432x288 with 1 Axes>"
      ]
     },
     "metadata": {
      "needs_background": "light"
     },
     "output_type": "display_data"
    }
   ],
   "source": [
    "%matplotlib inline\n",
    "\n",
    "plt.boxplot(bike_data.hum)\n",
    "\n",
    "#Negetive outlier found in hum"
   ]
  },
  {
   "cell_type": "code",
   "execution_count": 9,
   "metadata": {},
   "outputs": [],
   "source": [
    "cnames = [\"dteday\",\"yr\",\"season\",\"mnth\",\"workingday\",\"weekday\",\"weathersit\",\"temp\",\"atemp\",\"hum\",\"windspeed\"]\n",
    "pnames = [\"temp\",\"hum\",\"windspeed\"]"
   ]
  },
  {
   "cell_type": "code",
   "execution_count": 10,
   "metadata": {},
   "outputs": [
    {
     "name": "stdout",
     "output_type": "stream",
     "text": [
      "temp\n",
      "-0.14041600000000015\n",
      "1.1329160000000003\n",
      "hum\n",
      "0.20468725\n",
      "1.0455212500000002\n",
      "windspeed\n",
      "-0.012431000000000025\n",
      "0.380585\n"
     ]
    }
   ],
   "source": [
    "#Detect & Delete Outliers\n",
    "for i in pnames :\n",
    "    print (i)\n",
    "    q75,q25 = np.percentile(bike_data.loc[:,i],[75,25])\n",
    "    iqr = q75-q25\n",
    "    \n",
    "    min = q25 - (iqr*1.5)\n",
    "    max = q75 + (iqr*1.5)\n",
    "    print (min)\n",
    "    print (max)\n",
    "    \n",
    "    bike_data = bike_data.drop(bike_data[bike_data.loc[:,i] < min].index)\n",
    "    bike_data = bike_data.drop(bike_data[bike_data.loc[:,i] > max].index)"
   ]
  },
  {
   "cell_type": "markdown",
   "metadata": {},
   "source": [
    "# Feature Engineering"
   ]
  },
  {
   "cell_type": "code",
   "execution_count": 11,
   "metadata": {},
   "outputs": [],
   "source": [
    "bike_data.dteday = pd.to_datetime(bike_data.dteday, yearfirst=True)\n",
    "bike_data.season = bike_data.season.astype('category')\n",
    "bike_data.yr = bike_data.yr.astype('category')\n",
    "bike_data.mnth = bike_data.mnth.astype('category')\n",
    "bike_data.holiday = bike_data.holiday.astype('category')\n",
    "bike_data.weekday = bike_data.weekday.astype('category')\n",
    "bike_data.workingday = bike_data.workingday.astype('category')\n",
    "bike_data.weathersit = bike_data.weathersit.astype('category')\n",
    "\n",
    "bike_data.temp = bike_data.temp.astype('float')\n",
    "bike_data.atemp = bike_data.atemp.astype('float')\n",
    "bike_data.hum = bike_data.hum.astype('float')\n",
    "bike_data.windspeed = bike_data.windspeed.astype('float')\n",
    "bike_data.casual = bike_data.casual.astype('float')\n",
    "bike_data.registered = bike_data.registered.astype('float')\n",
    "bike_data.cnt = bike_data.cnt.astype('float')"
   ]
  },
  {
   "cell_type": "code",
   "execution_count": 12,
   "metadata": {},
   "outputs": [
    {
     "name": "stdout",
     "output_type": "stream",
     "text": [
      "dteday        datetime64[ns]\n",
      "season              category\n",
      "yr                  category\n",
      "mnth                category\n",
      "holiday             category\n",
      "weekday             category\n",
      "workingday          category\n",
      "weathersit          category\n",
      "temp                 float64\n",
      "atemp                float64\n",
      "hum                  float64\n",
      "windspeed            float64\n",
      "casual               float64\n",
      "registered           float64\n",
      "cnt                  float64\n",
      "dtype: object\n"
     ]
    }
   ],
   "source": [
    "print(bike_data.dtypes)"
   ]
  },
  {
   "cell_type": "markdown",
   "metadata": {},
   "source": [
    "# Feature Selection"
   ]
  },
  {
   "cell_type": "code",
   "execution_count": 13,
   "metadata": {},
   "outputs": [
    {
     "data": {
      "text/plain": [
       "<matplotlib.axes._subplots.AxesSubplot at 0x1a194f7860>"
      ]
     },
     "execution_count": 13,
     "metadata": {},
     "output_type": "execute_result"
    },
    {
     "data": {
      "image/png": "[encoded data removed]",
      "text/plain": [
       "<Figure size 504x360 with 2 Axes>"
      ]
     },
     "metadata": {
      "needs_background": "light"
     },
     "output_type": "display_data"
    }
   ],
   "source": [
    "##Feature selection o the basis of various features like correlation, multicollinearity.\n",
    "#Correlation Plot\n",
    "df_corr = bike_data.loc[:,cnames]\n",
    "#Set the width and hieght of the plot\n",
    "f, ax = plt.subplots(figsize=(7, 5))\n",
    "\n",
    "#Generate correlation matrix\n",
    "corr = df_corr.corr()\n",
    "\n",
    "#Plot using seaborn library\n",
    "sns.heatmap(corr, mask=np.zeros_like(corr, dtype=np.bool), cmap=sns.diverging_palette(220, 10, as_cmap=True),\n",
    "            square=True, ax=ax)"
   ]
  },
  {
   "cell_type": "code",
   "execution_count": 14,
   "metadata": {},
   "outputs": [],
   "source": [
    "#Chi Square Test of Independence\n",
    "#Saving Categorical Numbers\n",
    "cat_names = [\"season\",\"yr\",\"mnth\",\"holiday\",\"weekday\",\"workingday\",\"weathersit\"]"
   ]
  },
  {
   "cell_type": "code",
   "execution_count": 15,
   "metadata": {},
   "outputs": [
    {
     "name": "stdout",
     "output_type": "stream",
     "text": [
      "season\n",
      "2049\n",
      "yr\n",
      "683\n",
      "mnth\n",
      "7513\n",
      "holiday\n",
      "683\n",
      "weekday\n",
      "4098\n",
      "workingday\n",
      "683\n",
      "weathersit\n",
      "1366\n"
     ]
    }
   ],
   "source": [
    "from scipy.stats import chi2_contingency\n",
    "for i in cat_names:\n",
    "    print(i)\n",
    "    chi2, p, dof, ex = chi2_contingency(pd.crosstab(bike_data['cnt'], bike_data[i]))\n",
    "    print(dof)"
   ]
  },
  {
   "cell_type": "code",
   "execution_count": 16,
   "metadata": {},
   "outputs": [],
   "source": [
    "#Removing variables atemp beacuse it is highly correlated with temp,\n",
    "#Removing weekday,holiday because they don't provide much to the independent variable\n",
    "#Removing Causal and registered becuase that's what we need to predict.\n",
    "\n",
    "bike_data = bike_data.drop(['atemp','holiday','workingday','casual','registered'], axis =1)"
   ]
  },
  {
   "cell_type": "markdown",
   "metadata": {},
   "source": [
    "# Exploratory Data Analysis"
   ]
  },
  {
   "cell_type": "code",
   "execution_count": 17,
   "metadata": {},
   "outputs": [
    {
     "name": "stderr",
     "output_type": "stream",
     "text": [
      "/Users/apple/anaconda3/lib/python3.7/site-packages/matplotlib/axes/_axes.py:6521: MatplotlibDeprecationWarning: \n",
      "The 'normed' kwarg was deprecated in Matplotlib 2.1 and will be removed in 3.1. Use 'density' instead.\n",
      "  alternative=\"'density'\", removal=\"3.1\")\n"
     ]
    },
    {
     "data": {
      "image/png": "[encoded data removed]",
      "text/plain": [
       "<Figure size 432x288 with 1 Axes>"
      ]
     },
     "metadata": {
      "needs_background": "light"
     },
     "output_type": "display_data"
    }
   ],
   "source": [
    "#Distribution of cnt\n",
    "%matplotlib inline\n",
    "\n",
    "num_bins = 11\n",
    "plt.hist(bike_data['cnt'], num_bins, normed=1, facecolor='red', alpha=0.5)\n",
    "plt.show()"
   ]
  },
  {
   "cell_type": "code",
   "execution_count": 18,
   "metadata": {},
   "outputs": [
    {
     "name": "stdout",
     "output_type": "stream",
     "text": [
      "mnth\n",
      "1     61\n",
      "2     53\n",
      "3     58\n",
      "4     58\n",
      "5     62\n",
      "6     60\n",
      "7     62\n",
      "8     62\n",
      "9     60\n",
      "10    60\n",
      "11    60\n",
      "12    61\n",
      "dtype: int64\n"
     ]
    },
    {
     "data": {
      "text/plain": [
       "Text(0, 0.5, 'Total Bikes Rented')"
      ]
     },
     "execution_count": 18,
     "metadata": {},
     "output_type": "execute_result"
    },
    {
     "data": {
      "image/png": "[encoded data removed]",
      "text/plain": [
       "<Figure size 432x288 with 1 Axes>"
      ]
     },
     "metadata": {
      "needs_background": "light"
     },
     "output_type": "display_data"
    }
   ],
   "source": [
    "#Bike Rentals Monthly\n",
    "sales_by_month = bike_data.groupby('mnth').size()\n",
    "print(sales_by_month)\n",
    "#Plotting the Graph\n",
    "plot_by_month = sales_by_month.plot(title='Monthly Sales',xticks=(1,2,3,4,5,6,7,8,9,10,11,12))\n",
    "plot_by_month.set_xlabel('Months')\n",
    "plot_by_month.set_ylabel('Total Bikes Rented')"
   ]
  },
  {
   "cell_type": "code",
   "execution_count": 19,
   "metadata": {},
   "outputs": [
    {
     "data": {
      "text/plain": [
       "Text(0, 0.5, 'Total Bikes Rented')"
      ]
     },
     "execution_count": 19,
     "metadata": {},
     "output_type": "execute_result"
    },
    {
     "data": {
      "image/png": "[encoded data removed]",
      "text/plain": [
       "<Figure size 432x288 with 1 Axes>"
      ]
     },
     "metadata": {
      "needs_background": "light"
     },
     "output_type": "display_data"
    }
   ],
   "source": [
    "#Sales by Season\n",
    "sales_by_weekday = bike_data.groupby('season').size()\n",
    "plot_by_day = sales_by_weekday.plot(title='Season Sales',xticks=(range(1,4)),rot=55)\n",
    "plot_by_day.set_xlabel('season')\n",
    "plot_by_day.set_ylabel('Total Bikes Rented')"
   ]
  },
  {
   "cell_type": "markdown",
   "metadata": {},
   "source": [
    "# Model Development"
   ]
  },
  {
   "cell_type": "code",
   "execution_count": 20,
   "metadata": {},
   "outputs": [],
   "source": [
    "#Import Libraries for decision tree\n",
    "from sklearn import tree\n",
    "from sklearn.metrics import accuracy_score\n",
    "#from sklearn.cross_validation import train_test_split\n",
    "from sklearn.model_selection import train_test_split\n",
    "from sklearn.tree import DecisionTreeRegressor"
   ]
  },
  {
   "cell_type": "code",
   "execution_count": 47,
   "metadata": {},
   "outputs": [],
   "source": [
    "#Divide data into train and test\n",
    "X = bike_data.values[:,1:9]\n",
    "Y = bike_data.values[:,9]\n",
    "\n",
    "X_train,y_train,X_test,y_test = train_test_split( X, Y, test_size = 0.2)"
   ]
  },
  {
   "cell_type": "markdown",
   "metadata": {},
   "source": [
    "# Decision Tree"
   ]
  },
  {
   "cell_type": "code",
   "execution_count": 48,
   "metadata": {},
   "outputs": [],
   "source": [
    "fit_DT = DecisionTreeRegressor(max_depth=4).fit(X_train, X_test)\n",
    "#Apply model on test data\n",
    "predictions_DT = fit_DT.predict(y_train)\n",
    "#errors = abs(predictions - y_test)"
   ]
  },
  {
   "cell_type": "code",
   "execution_count": 49,
   "metadata": {},
   "outputs": [
    {
     "data": {
      "text/plain": [
       "17.30019040428621"
      ]
     },
     "execution_count": 49,
     "metadata": {},
     "output_type": "execute_result"
    }
   ],
   "source": [
    "def MAPE(y_true, y_pred): \n",
    "    mape = np.mean(np.abs((y_true - y_pred) / y_true))*100\n",
    "    return mape\n",
    "\n",
    "MAPE(y_test, predictions_DT)"
   ]
  },
  {
   "cell_type": "code",
   "execution_count": 50,
   "metadata": {},
   "outputs": [
    {
     "name": "stdout",
     "output_type": "stream",
     "text": [
      "Accuracy: 84.82 %.\n"
     ]
    }
   ],
   "source": [
    "# Calculate mean absolute percentage error (MAPE)\n",
    "mape = 100 * (errors / y_test)\n",
    "# Calculate and display accuracy\n",
    "accuracy = 100 - np.mean(mape)\n",
    "print('Accuracy:', round(accuracy, 2), '%.')"
   ]
  },
  {
   "cell_type": "markdown",
   "metadata": {},
   "source": [
    "# Rendom Forest"
   ]
  },
  {
   "cell_type": "code",
   "execution_count": 51,
   "metadata": {},
   "outputs": [],
   "source": [
    "from sklearn.ensemble import RandomForestRegressor\n",
    "\n",
    "#RF_model = RandomForestRegressor(n_estimators = 100).fit(X_train, y_train)\n",
    "RF_model = RandomForestRegressor(n_estimators = 1000, random_state = 1337)\n",
    "# Train the model on training data\n",
    "RF_model.fit(X_train, X_test);\n",
    "\n",
    "# Use the forest's predict method on the test data\n",
    "predictions = RF_model.predict(y_train)\n",
    "# Calculate the absolute errors\n",
    "errors = abs(predictions - y_test)"
   ]
  },
  {
   "cell_type": "code",
   "execution_count": 52,
   "metadata": {},
   "outputs": [
    {
     "name": "stdout",
     "output_type": "stream",
     "text": [
      "Accuracy: 87.38 %.\n"
     ]
    }
   ],
   "source": [
    "# Calculate mean absolute percentage error (MAPE)\n",
    "mape = 100 * (errors / y_test)\n",
    "# Calculate and display accuracy\n",
    "accuracy = 100 - np.mean(mape)\n",
    "print('Accuracy:', round(accuracy, 2), '%.')"
   ]
  },
  {
   "cell_type": "code",
   "execution_count": null,
   "metadata": {},
   "outputs": [],
   "source": []
  }
 ],
 "metadata": {
  "kernelspec": {
   "display_name": "Python 3",
   "language": "python",
   "name": "python3"
  },
  "language_info": {
   "codemirror_mode": {
    "name": "ipython",
    "version": 3
   },
   "file_extension": ".py",
   "mimetype": "text/x-python",
   "name": "python",
   "nbconvert_exporter": "python",
   "pygments_lexer": "ipython3",
   "version": "3.7.3"
  }
 },
 "nbformat": 4,
 "nbformat_minor": 2
}
